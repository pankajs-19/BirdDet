{
 "cells": [
  {
   "cell_type": "code",
   "execution_count": null,
   "id": "903292a7-6b97-469f-8556-4393db801328",
   "metadata": {},
   "outputs": [],
   "source": [
    "import re\n",
    "import cv2\n",
    "from tflite_runtime.interpreter import Interpreter\n",
    "import numpy as np\n",
    "\n",
    "CAMERA_WIDTH = 640\n",
    "CAMERA_HEIGHT = 480"
   ]
  },
  {
   "cell_type": "code",
   "execution_count": null,
   "id": "a2ec5c77-c433-485a-859e-ec2a75549b72",
   "metadata": {},
   "outputs": [],
   "source": [
    "def load_labels(path='labels.txt'):\n",
    "  \"\"\"Loads the labels file. Supports files with or without index numbers.\"\"\"\n",
    "  with open(path, 'r', encoding='utf-8') as f:\n",
    "    lines = f.readlines()\n",
    "    labels = {}\n",
    "    for row_number, content in enumerate(lines):\n",
    "      pair = re.split(r'[:\\s]+', content.strip(), maxsplit=1)\n",
    "      if len(pair) == 2 and pair[0].strip().isdigit():\n",
    "        labels[int(pair[0])] = pair[1].strip()\n",
    "      else:\n",
    "        labels[row_number] = pair[0].strip()\n",
    "  return labels"
   ]
  },
  {
   "cell_type": "code",
   "execution_count": null,
   "id": "d030fa76-f261-4ca5-9db5-66998c10fb53",
   "metadata": {},
   "outputs": [],
   "source": [
    "def set_input_tensor(interpreter, image):\n",
    "  \"\"\"Sets the input tensor.\"\"\"\n",
    "  tensor_index = interpreter.get_input_details()[0]['index']\n",
    "  input_tensor = interpreter.tensor(tensor_index)()[0]\n",
    "  input_tensor[:, :] = np.expand_dims((image-255)/255, axis=0)\n",
    "\n",
    "\n",
    "def get_output_tensor(interpreter, index):\n",
    "  \"\"\"Returns the output tensor at the given index.\"\"\"\n",
    "  output_details = interpreter.get_output_details()[index]\n",
    "  tensor = np.squeeze(interpreter.get_tensor(output_details['index']))\n",
    "  return tensor"
   ]
  },
  {
   "cell_type": "code",
   "execution_count": null,
   "id": "1e80af65-b60f-4ee0-ad4c-7e4f48304710",
   "metadata": {},
   "outputs": [],
   "source": [
    "def detect_objects(interpreter, image, threshold):\n",
    "  \"\"\"Returns a list of detection results, each a dictionary of object info.\"\"\"\n",
    "  set_input_tensor(interpreter, image)\n",
    "  interpreter.invoke()\n",
    "  # Get all output details\n",
    "  boxes = get_output_tensor(interpreter, 0)\n",
    "  classes = get_output_tensor(interpreter, 1)\n",
    "  scores = get_output_tensor(interpreter, 2)\n",
    "  count = int(get_output_tensor(interpreter, 3))\n",
    "\n",
    "  results = []\n",
    "  for i in range(count):\n",
    "    if scores[i] >= threshold:\n",
    "      result = {\n",
    "          'bounding_box': boxes[i],\n",
    "          'class_id': classes[i],\n",
    "          'score': scores[i]\n",
    "      }\n",
    "      results.append(result)\n",
    "  return results"
   ]
  },
  {
   "cell_type": "code",
   "execution_count": null,
   "id": "fba82a4c-7708-45e5-90d3-89ad73587dcf",
   "metadata": {},
   "outputs": [],
   "source": [
    "def main():\n",
    "    labels = load_labels()\n",
    "    interpreter = Interpreter('detect.tflite')\n",
    "    interpreter.allocate_tensors()\n",
    "    _, input_height, input_width, _ = interpreter.get_input_details()[0]['shape']\n",
    "\n",
    "    cap = cv2.VideoCapture(0)\n",
    "    while cap.isOpened():\n",
    "        ret, frame = cap.read()\n",
    "        img = cv2.resize(cv2.cvtColor(frame, cv2.COLOR_BGR2RGB), (320,320))\n",
    "        res = detect_objects(interpreter, img, 0.8)\n",
    "        print(res)\n",
    "\n",
    "        for result in res:\n",
    "            ymin, xmin, ymax, xmax = result['bounding_box']\n",
    "            xmin = int(max(1,xmin * CAMERA_WIDTH))\n",
    "            xmax = int(min(CAMERA_WIDTH, xmax * CAMERA_WIDTH))\n",
    "            ymin = int(max(1, ymin * CAMERA_HEIGHT))\n",
    "            ymax = int(min(CAMERA_HEIGHT, ymax * CAMERA_HEIGHT))\n",
    "            \n",
    "            cv2.rectangle(frame,(xmin, ymin),(xmax, ymax),(0,255,0),3)\n",
    "            cv2.putText(frame,labels[int(result['class_id'])],(xmin, min(ymax, CAMERA_HEIGHT-20)), cv2.FONT_HERSHEY_SIMPLEX, 0.5,(255,255,255),2,cv2.LINE_AA) \n",
    "\n",
    "        cv2.imshow('Pi Feed', frame)\n",
    "\n",
    "        if cv2.waitKey(10) & 0xFF ==ord('q'):\n",
    "            cap.release()\n",
    "            cv2.destroyAllWindows()\n",
    "\n",
    "if __name__ == \"__main__\":\n",
    "    main()"
   ]
  }
 ],
 "metadata": {
  "kernelspec": {
   "display_name": "tfod",
   "language": "python",
   "name": "tfod"
  },
  "language_info": {
   "codemirror_mode": {
    "name": "ipython",
    "version": 3
   },
   "file_extension": ".py",
   "mimetype": "text/x-python",
   "name": "python",
   "nbconvert_exporter": "python",
   "pygments_lexer": "ipython3",
   "version": "3.10.12"
  }
 },
 "nbformat": 4,
 "nbformat_minor": 5
}
